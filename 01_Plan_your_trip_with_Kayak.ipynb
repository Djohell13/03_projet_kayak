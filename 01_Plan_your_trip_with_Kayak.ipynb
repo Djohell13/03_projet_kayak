{
  "cells": [
    {
      "cell_type": "markdown",
      "metadata": {
        "id": "e9IeBIU2OeKu"
      },
      "source": [
        "![Kayak](https://seekvectorlogo.com/wp-content/uploads/2018/01/kayak-vector-logo.png)\n",
        "\n",
        "# Plan your trip with Kayak\n",
        "\n",
        "## Company's description 📇\n",
        "\n",
        "<a href=\"https://www.kayak.com\" target=\"_blank\">Kayak</a> is a travel search engine that helps user plan their next trip at the best price.\n",
        "\n",
        "The company was founded in 2004 by Steve Hafner & Paul M. English. After a few rounds of fundraising, Kayak was acquired by <a href=\"https://www.bookingholdings.com/\" target=\"_blank\">Booking Holdings</a> which now holds:\n",
        "\n",
        "* <a href=\"https://booking.com/\" target=\"_blank\">Booking.com</a>\n",
        "* <a href=\"https://kayak.com/\" target=\"_blank\">Kayak</a>\n",
        "* <a href=\"https://www.priceline.com/\" target=\"_blank\">Priceline</a>\n",
        "* <a href=\"https://www.agoda.com/\" target=\"_blank\">Agoda</a>\n",
        "* <a href=\"https://Rentalcars.com/\" target=\"_blank\">RentalCars</a>\n",
        "* <a href=\"https://www.opentable.com/\" target=\"_blank\">OpenTable</a>\n",
        "\n",
        "With over \\$300 million revenue a year, Kayak operates in almost all countries and all languages to help their users book travels accros the globe."
      ]
    },
    {
      "cell_type": "markdown",
      "metadata": {
        "id": "LgI6FOtuOeKv"
      },
      "source": [
        "## Project 🚧\n",
        "\n",
        "The marketing team needs help on a new project. After doing some user research, the team discovered that **70% of their users who are planning a trip would like to have more information about the destination they are going to**.\n",
        "\n",
        "In addition, user research shows that **people tend to be defiant about the information they are reading if they don't know the brand** which produced the content.\n",
        "\n",
        "Therefore, Kayak Marketing Team would like to create an application that will recommend where people should plan their next holidays. The application should be based on real data about:\n",
        "\n",
        "* Weather\n",
        "* Hotels in the area\n",
        "\n",
        "The application should then be able to recommend the best destinations and hotels based on the above variables at any given time."
      ]
    },
    {
      "cell_type": "markdown",
      "metadata": {
        "id": "JKX_e1_VOeKv"
      },
      "source": [
        "## Goals 🎯\n",
        "\n",
        "As the project has just started, your team doesn't have any data that can be used to create this application. Therefore, your job will be to:\n",
        "\n",
        "* Scrape data from destinations\n",
        "* Get weather data from each destination\n",
        "* Get hotels' info about each destination\n",
        "* Store all the information above in a data lake\n",
        "* Extract, transform and load cleaned data from your datalake to a data warehouse"
      ]
    },
    {
      "cell_type": "markdown",
      "metadata": {
        "id": "ajHZjILeOeKv"
      },
      "source": [
        "## Scope of this project 🖼️\n",
        "\n",
        "Marketing team wants to focus first on the best cities to travel to in France. According <a href=\"https://one-week-in.com/35-cities-to-visit-in-france/\" target=\"_blank\">One Week In.com</a> here are the top-35 cities to visit in France:\n",
        "\n",
        "```python\n",
        "[\"Mont Saint Michel\",\n",
        "\"St Malo\",\n",
        "\"Bayeux\",\n",
        "\"Le Havre\",\n",
        "\"Rouen\",\n",
        "\"Paris\",\n",
        "\"Amiens\",\n",
        "\"Lille\",\n",
        "\"Strasbourg\",\n",
        "\"Chateau du Haut Koenigsbourg\",\n",
        "\"Colmar\",\n",
        "\"Eguisheim\",\n",
        "\"Besancon\",\n",
        "\"Dijon\",\n",
        "\"Annecy\",\n",
        "\"Grenoble\",\n",
        "\"Lyon\",\n",
        "\"Gorges du Verdon\",\n",
        "\"Bormes les Mimosas\",\n",
        "\"Cassis\",\n",
        "\"Marseille\",\n",
        "\"Aix en Provence\",\n",
        "\"Avignon\",\n",
        "\"Uzes\",\n",
        "\"Nimes\",\n",
        "\"Aigues Mortes\",\n",
        "\"Saintes Maries de la mer\",\n",
        "\"Collioure\",\n",
        "\"Carcassonne\",\n",
        "\"Ariege\",\n",
        "\"Toulouse\",\n",
        "\"Montauban\",\n",
        "\"Biarritz\",\n",
        "\"Bayonne\",\n",
        "\"La Rochelle\"]\n",
        "```\n",
        "\n",
        "Your team should focus **only on the above cities for your project**.\n"
      ]
    },
    {
      "cell_type": "markdown",
      "metadata": {
        "id": "ZlK6OCc8OeKw"
      },
      "source": [
        "## Helpers 🦮\n",
        "\n",
        "To help you achieve this project, here are a few tips that should help you\n",
        "\n",
        "### Get weather data with an API\n",
        "\n",
        "*   Use https://nominatim.org/ to get the gps coordinates of all the cities (no subscription required) Documentation : https://nominatim.org/release-docs/develop/api/Search/\n",
        "\n",
        "*   Use https://openweathermap.org/appid (you have to subscribe to get a free apikey) and https://openweathermap.org/api/one-call-api to get some information about the weather for the 35 cities and put it in a DataFrame\n",
        "\n",
        "*   Determine the list of cities where the weather will be the nicest within the next 7 days For example, you can use the values of daily.pop and daily.rain to compute the expected volume of rain within the next 7 days... But it's only an example, actually you can have different opinions on a what a nice weather would be like 😎 Maybe the most important criterion for you is the temperature or humidity, so feel free to change the rules !\n",
        "\n",
        "*   Save all the results in a `.csv` file, you will use it later 😉 You can save all the informations that seem important to you ! Don't forget to save the name of the cities, and also to create a column containing a unique identifier (id) of each city (this is important for what's next in the project)\n",
        "\n",
        "*   Use plotly to display the best destinations on a map\n",
        "\n",
        "### Scrape Booking.com\n",
        "\n",
        "Since BookingHoldings doesn't have aggregated databases, it will be much faster to scrape data directly from booking.com\n",
        "\n",
        "You can scrap as many information asyou want, but we suggest that you get at least:\n",
        "\n",
        "*   hotel name,\n",
        "*   Url to its booking.com page,\n",
        "*   Its coordinates: latitude and longitude\n",
        "*   Score given by the website users\n",
        "*   Text description of the hotel\n",
        "\n",
        "\n",
        "### Create your data lake using S3\n",
        "\n",
        "Once you managed to build your dataset, you should store into S3 as a csv file.\n",
        "\n",
        "### ETL\n",
        "\n",
        "Once you uploaded your data onto S3, it will be better for the next data analysis team to extract clean data directly from a Data Warehouse. Therefore, create a SQL Database using AWS RDS, extract your data from S3 and store it in your newly created DB."
      ]
    },
    {
      "cell_type": "markdown",
      "metadata": {
        "id": "ZZf4ZYubOeKw"
      },
      "source": [
        "## Deliverable 📬\n",
        "\n",
        "To complete this project, your team should deliver:\n",
        "\n",
        "* A `.csv` file in an S3 bucket containing enriched information about weather and hotels for each french city\n",
        "\n",
        "* A SQL Database where we should be able to get the same cleaned data from S3\n",
        "\n",
        "* Two maps where you should have a Top-5 destinations and a Top-20 hotels in the area. You can use plotly or any other library to do so. It should look something like this:\n",
        "\n",
        "![Map](https://full-stack-assets.s3.eu-west-3.amazonaws.com/images/Kayak_best_destination_project.png)"
      ]
    },
    {
      "cell_type": "code",
      "source": [
        "import pandas as pd\n",
        "import requests\n",
        "import json\n"
      ],
      "metadata": {
        "id": "VgUsw5OiSIHs"
      },
      "execution_count": 1,
      "outputs": []
    },
    {
      "cell_type": "code",
      "source": [
        "# Requête sur nominatim et vérification status\n",
        "\n",
        "r = requests.get('https://nominatim.openstreetmap.org/search')\n",
        "r"
      ],
      "metadata": {
        "colab": {
          "base_uri": "https://localhost:8080/"
        },
        "id": "WeZeCESfSNxK",
        "outputId": "956be3a5-acb2-4550-b679-de5a54f1ab3f"
      },
      "execution_count": 2,
      "outputs": [
        {
          "output_type": "execute_result",
          "data": {
            "text/plain": [
              "<Response [200]>"
            ]
          },
          "metadata": {},
          "execution_count": 2
        }
      ]
    },
    {
      "cell_type": "code",
      "source": [
        "# Vérification du dictionnaire python\n",
        "r.headers"
      ],
      "metadata": {
        "colab": {
          "base_uri": "https://localhost:8080/"
        },
        "id": "eSyrJ4CjStzQ",
        "outputId": "073bad36-3bee-4a49-a89e-40ce723faf56"
      },
      "execution_count": 3,
      "outputs": [
        {
          "output_type": "execute_result",
          "data": {
            "text/plain": [
              "{'Server': 'nginx', 'Date': 'Fri, 21 Mar 2025 09:31:32 GMT', 'Content-Type': 'text/html', 'Content-Length': '780', 'Last-Modified': 'Sun, 10 Nov 2024 19:11:53 GMT', 'Connection': 'keep-alive', 'Keep-Alive': 'timeout=20', 'ETag': '\"67310579-30c\"', 'Accept-Ranges': 'bytes'}"
            ]
          },
          "metadata": {},
          "execution_count": 3
        }
      ]
    },
    {
      "cell_type": "code",
      "source": [
        "# Requête des 35 meilleurs villes\n",
        "\n",
        "url = \"https://nominatim.openstreetmap.org/search\"\n",
        "headers = {\n",
        "    \"User-Agent\": \"MyGeocoder/1.0 (myemail@example.com)\"\n",
        "}\n",
        "\n",
        "places = [\n",
        "    \"Mont Saint Michel\", \"St Malo\", \"Bayeux\", \"Le Havre\", \"Rouen\", \"Paris\", \"Amiens\", \"Lille\",\n",
        "    \"Strasbourg\", \"Chateau du Haut Koenigsbourg\", \"Colmar\", \"Eguisheim\", \"Besancon\", \"Dijon\",\n",
        "    \"Annecy\", \"Grenoble\", \"Lyon\", \"Gorges du Verdon\", \"Bormes les Mimosas\", \"Cassis\", \"Marseille\",\n",
        "    \"Aix en Provence\", \"Avignon\", \"Uzes\", \"Nimes\", \"Aigues Mortes\", \"Saintes Maries de la Mer\",\n",
        "    \"Collioure\", \"Carcassonne\", \"Ariege\", \"Toulouse\", \"Montauban\", \"Biarritz\", \"Bayonne\", \"La Rochelle\"\n",
        "]\n",
        "\n",
        "# Liste pour stocker les résultats\n",
        "data_list = []\n",
        "\n",
        "for place in places:\n",
        "    params = {\n",
        "        \"q\": place,\n",
        "        \"format\": \"json\",\n",
        "        \"limit\": 1  # On limite à 1 résultat par ville\n",
        "    }\n",
        "\n",
        "    response = requests.get(url, params=params, headers=headers)\n",
        "\n",
        "    if response.status_code == 200:\n",
        "        data = response.json()\n",
        "        if data:\n",
        "            # Ajout des informations dans la liste\n",
        "            data_list.append({\n",
        "                \"ville\": place,\n",
        "                \"latitude\": data[0].get(\"lat\"),\n",
        "                \"longitude\": data[0].get(\"lon\"),\n",
        "                \"display_name\": data[0].get(\"display_name\")\n",
        "            })\n",
        "        else:\n",
        "            data_list.append({\"ville\": place, \"latitude\": None, \"longitude\": None, \"display_name\": None})\n",
        "    else:\n",
        "        data_list.append({\"ville\": place, \"latitude\": None, \"longitude\": None, \"display_name\": f\"Erreur {response.status_code}\"})\n",
        "\n",
        "\n",
        "df = pd.DataFrame(data_list)\n",
        "\n",
        "print(df)\n",
        "\n",
        "# Sauvegarde en CSV\n",
        "df.to_csv(\"coordonnees_villes.csv\", index=False)\n"
      ],
      "metadata": {
        "colab": {
          "base_uri": "https://localhost:8080/"
        },
        "id": "e6m4OynqAwdj",
        "outputId": "3873e4d1-f8b7-43c8-f7a9-c6bad86faaf6"
      },
      "execution_count": 4,
      "outputs": [
        {
          "output_type": "stream",
          "name": "stdout",
          "text": [
            "                           ville            latitude           longitude  \\\n",
            "0              Mont Saint Michel          48.6359541  -1.511459954959514   \n",
            "1                        St Malo           49.314695         -96.9538228   \n",
            "2                         Bayeux          49.2764624          -0.7024738   \n",
            "3                       Le Havre          49.4938975           0.1079732   \n",
            "4                          Rouen          49.4404591           1.0939658   \n",
            "5                          Paris          48.8534951           2.3483915   \n",
            "6                         Amiens          49.8941708           2.2956951   \n",
            "7                          Lille          50.6365654           3.0635282   \n",
            "8                     Strasbourg           48.584614           7.7507127   \n",
            "9   Chateau du Haut Koenigsbourg  48.249410749999996   7.344320233724503   \n",
            "10                        Colmar          48.0777517           7.3579641   \n",
            "11                     Eguisheim          48.0447968           7.3079618   \n",
            "12                      Besancon          47.2380222           6.0243622   \n",
            "13                         Dijon          47.3215806           5.0414701   \n",
            "14                        Annecy          45.8992348           6.1288847   \n",
            "15                      Grenoble          45.1875602           5.7357819   \n",
            "16                          Lyon          45.7578137           4.8320114   \n",
            "17              Gorges du Verdon          43.7496562           6.3285616   \n",
            "18            Bormes les Mimosas          43.1506968           6.3419285   \n",
            "19                        Cassis          43.2140359           5.5396318   \n",
            "20                     Marseille          43.2961743           5.3699525   \n",
            "21               Aix en Provence          43.5298424           5.4474738   \n",
            "22                       Avignon          43.9492493           4.8059012   \n",
            "23                          Uzes          44.0121279           4.4196718   \n",
            "24                         Nimes          43.8374249           4.3600687   \n",
            "25                 Aigues Mortes          43.5661521             4.19154   \n",
            "26      Saintes Maries de la Mer          43.4515922           4.4277202   \n",
            "27                     Collioure            42.52505           3.0831554   \n",
            "28                   Carcassonne          43.2130358           2.3491069   \n",
            "29                        Ariege          42.9455368  1.4065544156065486   \n",
            "30                      Toulouse          43.6044622           1.4442469   \n",
            "31                     Montauban          44.0175835           1.3549991   \n",
            "32                      Biarritz          43.4832523          -1.5592776   \n",
            "33                       Bayonne          43.4945144          -1.4736657   \n",
            "34                   La Rochelle           46.159732          -1.1515951   \n",
            "\n",
            "                                         display_name  \n",
            "0   Mont Saint-Michel, Terrasse de l'Abside, Le Mo...  \n",
            "1   St. Malo, Rural Municipality of De Salaberry, ...  \n",
            "2   Bayeux, Calvados, Normandie, France métropolit...  \n",
            "3   Le Havre, Seine-Maritime, Normandie, France mé...  \n",
            "4   Rouen, Seine-Maritime, Normandie, France métro...  \n",
            "5   Paris, Île-de-France, France métropolitaine, F...  \n",
            "6   Amiens, Somme, Hauts-de-France, France métropo...  \n",
            "7   Lille, Nord, Hauts-de-France, France métropoli...  \n",
            "8   Strasbourg, Bas-Rhin, Grand Est, France métrop...  \n",
            "9   Château du Haut-Kœnigsbourg, D 159, Château du...  \n",
            "10  Colmar, Colmar-Ribeauvillé, Haut-Rhin, Grand E...  \n",
            "11  Eguisheim, Colmar-Ribeauvillé, Haut-Rhin, Gran...  \n",
            "12  Besançon, Doubs, Bourgogne-Franche-Comté, Fran...  \n",
            "13  Dijon, Côte-d'Or, Bourgogne-Franche-Comté, Fra...  \n",
            "14  Annecy, Haute-Savoie, Auvergne-Rhône-Alpes, Fr...  \n",
            "15  Grenoble, Isère, Auvergne-Rhône-Alpes, France ...  \n",
            "16  Lyon, Métropole de Lyon, Rhône, Auvergne-Rhône...  \n",
            "17  Gorges du Verdon, Route de la Maline, La Palud...  \n",
            "18  Bormes-les-Mimosas, Toulon, Var, Provence-Alpe...  \n",
            "19  Cassis, Marseille, Bouches-du-Rhône, Provence-...  \n",
            "20  Marseille, Bouches-du-Rhône, Provence-Alpes-Cô...  \n",
            "21  Aix-en-Provence, Bouches-du-Rhône, Provence-Al...  \n",
            "22  Avignon, Vaucluse, Provence-Alpes-Côte d'Azur,...  \n",
            "23  Uzès, Nîmes, Gard, Occitanie, France métropoli...  \n",
            "24  Nîmes, Gard, Occitanie, France métropolitaine,...  \n",
            "25  Aigues-Mortes, Nîmes, Gard, Occitanie, France ...  \n",
            "26  Saintes-Maries-de-la-Mer, Arles, Bouches-du-Rh...  \n",
            "27  Collioure, Céret, Pyrénées-Orientales, Occitan...  \n",
            "28  Carcassonne, Aude, Occitanie, France métropoli...  \n",
            "29   Ariège, Occitanie, France métropolitaine, France  \n",
            "30  Toulouse, Haute-Garonne, Occitanie, France mét...  \n",
            "31  Montauban, Tarn-et-Garonne, Occitanie, France ...  \n",
            "32  Biarritz, Bayonne, Pyrénées-Atlantiques, Nouve...  \n",
            "33  Bayonne, Pyrénées-Atlantiques, Nouvelle-Aquita...  \n",
            "34  La Rochelle, Charente-Maritime, Nouvelle-Aquit...  \n"
          ]
        }
      ]
    },
    {
      "cell_type": "code",
      "source": [],
      "metadata": {
        "id": "arM70VrmBRsq"
      },
      "execution_count": 4,
      "outputs": []
    }
  ],
  "metadata": {
    "kernelspec": {
      "display_name": "Python 3",
      "language": "python",
      "name": "python3"
    },
    "language_info": {
      "codemirror_mode": {
        "name": "ipython",
        "version": 3
      },
      "file_extension": ".py",
      "mimetype": "text/x-python",
      "name": "python",
      "nbconvert_exporter": "python",
      "pygments_lexer": "ipython3",
      "version": "3.8.5"
    },
    "colab": {
      "provenance": []
    }
  },
  "nbformat": 4,
  "nbformat_minor": 0
}